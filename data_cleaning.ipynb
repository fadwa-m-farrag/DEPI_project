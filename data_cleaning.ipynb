{
 "cells": [
  {
   "cell_type": "code",
   "execution_count": 2,
   "metadata": {},
   "outputs": [],
   "source": [
    "import pandas as pd\n",
    "import numpy as np\n",
    "import matplotlib.pyplot as plt\n",
    "import seaborn as sns"
   ]
  },
  {
   "cell_type": "code",
   "execution_count": 3,
   "metadata": {},
   "outputs": [
    {
     "data": {
      "application/vnd.microsoft.datawrangler.viewer.v0+json": {
       "columns": [
        {
         "name": "index",
         "rawType": "int64",
         "type": "integer"
        },
        {
         "name": "msno",
         "rawType": "object",
         "type": "string"
        },
        {
         "name": "is_churn",
         "rawType": "int64",
         "type": "integer"
        },
        {
         "name": "city",
         "rawType": "int64",
         "type": "integer"
        },
        {
         "name": "bd",
         "rawType": "int64",
         "type": "integer"
        },
        {
         "name": "gender",
         "rawType": "object",
         "type": "string"
        },
        {
         "name": "registered_via",
         "rawType": "int64",
         "type": "integer"
        },
        {
         "name": "registration_init_time",
         "rawType": "int64",
         "type": "integer"
        },
        {
         "name": "date",
         "rawType": "int64",
         "type": "integer"
        },
        {
         "name": "num_25",
         "rawType": "int64",
         "type": "integer"
        },
        {
         "name": "num_50",
         "rawType": "int64",
         "type": "integer"
        },
        {
         "name": "num_75",
         "rawType": "int64",
         "type": "integer"
        },
        {
         "name": "num_985",
         "rawType": "int64",
         "type": "integer"
        },
        {
         "name": "num_100",
         "rawType": "int64",
         "type": "integer"
        },
        {
         "name": "num_unq",
         "rawType": "int64",
         "type": "integer"
        },
        {
         "name": "total_secs",
         "rawType": "float64",
         "type": "float"
        },
        {
         "name": "payment_method_id",
         "rawType": "int64",
         "type": "integer"
        },
        {
         "name": "payment_plan_days",
         "rawType": "int64",
         "type": "integer"
        },
        {
         "name": "plan_list_price",
         "rawType": "int64",
         "type": "integer"
        },
        {
         "name": "actual_amount_paid",
         "rawType": "int64",
         "type": "integer"
        },
        {
         "name": "is_auto_renew",
         "rawType": "int64",
         "type": "integer"
        },
        {
         "name": "transaction_date",
         "rawType": "int64",
         "type": "integer"
        },
        {
         "name": "membership_expire_date",
         "rawType": "int64",
         "type": "integer"
        },
        {
         "name": "is_cancel",
         "rawType": "int64",
         "type": "integer"
        }
       ],
       "conversionMethod": "pd.DataFrame",
       "ref": "ea8f48bc-80a4-4eca-8f05-e83a5a89a920",
       "rows": [
        [
         "0",
         "nUiYMBsiB/HaDWMF20ebBeWtw3xwoWrIGuFWa/J/Adc=",
         "0",
         "13",
         "36",
         "male",
         "9",
         "20110913",
         "20170313",
         "0",
         "0",
         "1",
         "0",
         "14",
         "15",
         "4028.665",
         "40",
         "30",
         "149",
         "149",
         "1",
         "20170313",
         "20170419",
         "0"
        ],
        [
         "1",
         "nUiYMBsiB/HaDWMF20ebBeWtw3xwoWrIGuFWa/J/Adc=",
         "0",
         "13",
         "36",
         "male",
         "9",
         "20110913",
         "20170321",
         "2",
         "2",
         "0",
         "0",
         "20",
         "24",
         "5710.17",
         "40",
         "30",
         "149",
         "149",
         "1",
         "20170313",
         "20170419",
         "0"
        ],
        [
         "2",
         "nUiYMBsiB/HaDWMF20ebBeWtw3xwoWrIGuFWa/J/Adc=",
         "0",
         "13",
         "36",
         "male",
         "9",
         "20110913",
         "20170312",
         "0",
         "1",
         "0",
         "0",
         "7",
         "8",
         "2351.508",
         "40",
         "30",
         "149",
         "149",
         "1",
         "20170313",
         "20170419",
         "0"
        ],
        [
         "3",
         "nUiYMBsiB/HaDWMF20ebBeWtw3xwoWrIGuFWa/J/Adc=",
         "0",
         "13",
         "36",
         "male",
         "9",
         "20110913",
         "20170302",
         "0",
         "0",
         "0",
         "0",
         "2",
         "2",
         "523.702",
         "40",
         "30",
         "149",
         "149",
         "1",
         "20170313",
         "20170419",
         "0"
        ],
        [
         "4",
         "nUiYMBsiB/HaDWMF20ebBeWtw3xwoWrIGuFWa/J/Adc=",
         "0",
         "13",
         "36",
         "male",
         "9",
         "20110913",
         "20170314",
         "0",
         "1",
         "0",
         "1",
         "17",
         "19",
         "4705.77",
         "40",
         "30",
         "149",
         "149",
         "1",
         "20170313",
         "20170419",
         "0"
        ]
       ],
       "shape": {
        "columns": 23,
        "rows": 5
       }
      },
      "text/html": [
       "<div>\n",
       "<style scoped>\n",
       "    .dataframe tbody tr th:only-of-type {\n",
       "        vertical-align: middle;\n",
       "    }\n",
       "\n",
       "    .dataframe tbody tr th {\n",
       "        vertical-align: top;\n",
       "    }\n",
       "\n",
       "    .dataframe thead th {\n",
       "        text-align: right;\n",
       "    }\n",
       "</style>\n",
       "<table border=\"1\" class=\"dataframe\">\n",
       "  <thead>\n",
       "    <tr style=\"text-align: right;\">\n",
       "      <th></th>\n",
       "      <th>msno</th>\n",
       "      <th>is_churn</th>\n",
       "      <th>city</th>\n",
       "      <th>bd</th>\n",
       "      <th>gender</th>\n",
       "      <th>registered_via</th>\n",
       "      <th>registration_init_time</th>\n",
       "      <th>date</th>\n",
       "      <th>num_25</th>\n",
       "      <th>num_50</th>\n",
       "      <th>...</th>\n",
       "      <th>num_unq</th>\n",
       "      <th>total_secs</th>\n",
       "      <th>payment_method_id</th>\n",
       "      <th>payment_plan_days</th>\n",
       "      <th>plan_list_price</th>\n",
       "      <th>actual_amount_paid</th>\n",
       "      <th>is_auto_renew</th>\n",
       "      <th>transaction_date</th>\n",
       "      <th>membership_expire_date</th>\n",
       "      <th>is_cancel</th>\n",
       "    </tr>\n",
       "  </thead>\n",
       "  <tbody>\n",
       "    <tr>\n",
       "      <th>0</th>\n",
       "      <td>nUiYMBsiB/HaDWMF20ebBeWtw3xwoWrIGuFWa/J/Adc=</td>\n",
       "      <td>0</td>\n",
       "      <td>13</td>\n",
       "      <td>36</td>\n",
       "      <td>male</td>\n",
       "      <td>9</td>\n",
       "      <td>20110913</td>\n",
       "      <td>20170313</td>\n",
       "      <td>0</td>\n",
       "      <td>0</td>\n",
       "      <td>...</td>\n",
       "      <td>15</td>\n",
       "      <td>4028.665</td>\n",
       "      <td>40</td>\n",
       "      <td>30</td>\n",
       "      <td>149</td>\n",
       "      <td>149</td>\n",
       "      <td>1</td>\n",
       "      <td>20170313</td>\n",
       "      <td>20170419</td>\n",
       "      <td>0</td>\n",
       "    </tr>\n",
       "    <tr>\n",
       "      <th>1</th>\n",
       "      <td>nUiYMBsiB/HaDWMF20ebBeWtw3xwoWrIGuFWa/J/Adc=</td>\n",
       "      <td>0</td>\n",
       "      <td>13</td>\n",
       "      <td>36</td>\n",
       "      <td>male</td>\n",
       "      <td>9</td>\n",
       "      <td>20110913</td>\n",
       "      <td>20170321</td>\n",
       "      <td>2</td>\n",
       "      <td>2</td>\n",
       "      <td>...</td>\n",
       "      <td>24</td>\n",
       "      <td>5710.170</td>\n",
       "      <td>40</td>\n",
       "      <td>30</td>\n",
       "      <td>149</td>\n",
       "      <td>149</td>\n",
       "      <td>1</td>\n",
       "      <td>20170313</td>\n",
       "      <td>20170419</td>\n",
       "      <td>0</td>\n",
       "    </tr>\n",
       "    <tr>\n",
       "      <th>2</th>\n",
       "      <td>nUiYMBsiB/HaDWMF20ebBeWtw3xwoWrIGuFWa/J/Adc=</td>\n",
       "      <td>0</td>\n",
       "      <td>13</td>\n",
       "      <td>36</td>\n",
       "      <td>male</td>\n",
       "      <td>9</td>\n",
       "      <td>20110913</td>\n",
       "      <td>20170312</td>\n",
       "      <td>0</td>\n",
       "      <td>1</td>\n",
       "      <td>...</td>\n",
       "      <td>8</td>\n",
       "      <td>2351.508</td>\n",
       "      <td>40</td>\n",
       "      <td>30</td>\n",
       "      <td>149</td>\n",
       "      <td>149</td>\n",
       "      <td>1</td>\n",
       "      <td>20170313</td>\n",
       "      <td>20170419</td>\n",
       "      <td>0</td>\n",
       "    </tr>\n",
       "    <tr>\n",
       "      <th>3</th>\n",
       "      <td>nUiYMBsiB/HaDWMF20ebBeWtw3xwoWrIGuFWa/J/Adc=</td>\n",
       "      <td>0</td>\n",
       "      <td>13</td>\n",
       "      <td>36</td>\n",
       "      <td>male</td>\n",
       "      <td>9</td>\n",
       "      <td>20110913</td>\n",
       "      <td>20170302</td>\n",
       "      <td>0</td>\n",
       "      <td>0</td>\n",
       "      <td>...</td>\n",
       "      <td>2</td>\n",
       "      <td>523.702</td>\n",
       "      <td>40</td>\n",
       "      <td>30</td>\n",
       "      <td>149</td>\n",
       "      <td>149</td>\n",
       "      <td>1</td>\n",
       "      <td>20170313</td>\n",
       "      <td>20170419</td>\n",
       "      <td>0</td>\n",
       "    </tr>\n",
       "    <tr>\n",
       "      <th>4</th>\n",
       "      <td>nUiYMBsiB/HaDWMF20ebBeWtw3xwoWrIGuFWa/J/Adc=</td>\n",
       "      <td>0</td>\n",
       "      <td>13</td>\n",
       "      <td>36</td>\n",
       "      <td>male</td>\n",
       "      <td>9</td>\n",
       "      <td>20110913</td>\n",
       "      <td>20170314</td>\n",
       "      <td>0</td>\n",
       "      <td>1</td>\n",
       "      <td>...</td>\n",
       "      <td>19</td>\n",
       "      <td>4705.770</td>\n",
       "      <td>40</td>\n",
       "      <td>30</td>\n",
       "      <td>149</td>\n",
       "      <td>149</td>\n",
       "      <td>1</td>\n",
       "      <td>20170313</td>\n",
       "      <td>20170419</td>\n",
       "      <td>0</td>\n",
       "    </tr>\n",
       "  </tbody>\n",
       "</table>\n",
       "<p>5 rows × 23 columns</p>\n",
       "</div>"
      ],
      "text/plain": [
       "                                           msno  is_churn  city  bd gender  \\\n",
       "0  nUiYMBsiB/HaDWMF20ebBeWtw3xwoWrIGuFWa/J/Adc=         0    13  36   male   \n",
       "1  nUiYMBsiB/HaDWMF20ebBeWtw3xwoWrIGuFWa/J/Adc=         0    13  36   male   \n",
       "2  nUiYMBsiB/HaDWMF20ebBeWtw3xwoWrIGuFWa/J/Adc=         0    13  36   male   \n",
       "3  nUiYMBsiB/HaDWMF20ebBeWtw3xwoWrIGuFWa/J/Adc=         0    13  36   male   \n",
       "4  nUiYMBsiB/HaDWMF20ebBeWtw3xwoWrIGuFWa/J/Adc=         0    13  36   male   \n",
       "\n",
       "   registered_via  registration_init_time      date  num_25  num_50  ...  \\\n",
       "0               9                20110913  20170313       0       0  ...   \n",
       "1               9                20110913  20170321       2       2  ...   \n",
       "2               9                20110913  20170312       0       1  ...   \n",
       "3               9                20110913  20170302       0       0  ...   \n",
       "4               9                20110913  20170314       0       1  ...   \n",
       "\n",
       "   num_unq  total_secs  payment_method_id  payment_plan_days  plan_list_price  \\\n",
       "0       15    4028.665                 40                 30              149   \n",
       "1       24    5710.170                 40                 30              149   \n",
       "2        8    2351.508                 40                 30              149   \n",
       "3        2     523.702                 40                 30              149   \n",
       "4       19    4705.770                 40                 30              149   \n",
       "\n",
       "   actual_amount_paid  is_auto_renew  transaction_date  \\\n",
       "0                 149              1          20170313   \n",
       "1                 149              1          20170313   \n",
       "2                 149              1          20170313   \n",
       "3                 149              1          20170313   \n",
       "4                 149              1          20170313   \n",
       "\n",
       "   membership_expire_date  is_cancel  \n",
       "0                20170419          0  \n",
       "1                20170419          0  \n",
       "2                20170419          0  \n",
       "3                20170419          0  \n",
       "4                20170419          0  \n",
       "\n",
       "[5 rows x 23 columns]"
      ]
     },
     "execution_count": 3,
     "metadata": {},
     "output_type": "execute_result"
    }
   ],
   "source": [
    "data = pd.read_csv(r'train_df.csv')\n",
    "\n",
    "data.head()"
   ]
  },
  {
   "cell_type": "code",
   "execution_count": 4,
   "metadata": {},
   "outputs": [
    {
     "data": {
      "text/plain": [
       "15893645"
      ]
     },
     "execution_count": 4,
     "metadata": {},
     "output_type": "execute_result"
    }
   ],
   "source": [
    "data['msno'].count()"
   ]
  },
  {
   "cell_type": "code",
   "execution_count": 5,
   "metadata": {},
   "outputs": [
    {
     "data": {
      "text/plain": [
       "msno                            0\n",
       "is_churn                        0\n",
       "city                            0\n",
       "bd                              0\n",
       "gender                    7351369\n",
       "registered_via                  0\n",
       "registration_init_time          0\n",
       "date                            0\n",
       "num_25                          0\n",
       "num_50                          0\n",
       "num_75                          0\n",
       "num_985                         0\n",
       "num_100                         0\n",
       "num_unq                         0\n",
       "total_secs                      0\n",
       "payment_method_id               0\n",
       "payment_plan_days               0\n",
       "plan_list_price                 0\n",
       "actual_amount_paid              0\n",
       "is_auto_renew                   0\n",
       "transaction_date                0\n",
       "membership_expire_date          0\n",
       "is_cancel                       0\n",
       "dtype: int64"
      ]
     },
     "execution_count": 5,
     "metadata": {},
     "output_type": "execute_result"
    }
   ],
   "source": [
    "# exploring null values \n",
    "data.isna().sum()"
   ]
  },
  {
   "cell_type": "code",
   "execution_count": 6,
   "metadata": {},
   "outputs": [
    {
     "data": {
      "text/plain": [
       "msno                      0\n",
       "is_churn                  0\n",
       "city                      0\n",
       "bd                        0\n",
       "gender                    0\n",
       "registered_via            0\n",
       "registration_init_time    0\n",
       "date                      0\n",
       "num_25                    0\n",
       "num_50                    0\n",
       "num_75                    0\n",
       "num_985                   0\n",
       "num_100                   0\n",
       "num_unq                   0\n",
       "total_secs                0\n",
       "payment_method_id         0\n",
       "payment_plan_days         0\n",
       "plan_list_price           0\n",
       "actual_amount_paid        0\n",
       "is_auto_renew             0\n",
       "transaction_date          0\n",
       "membership_expire_date    0\n",
       "is_cancel                 0\n",
       "dtype: int64"
      ]
     },
     "execution_count": 6,
     "metadata": {},
     "output_type": "execute_result"
    }
   ],
   "source": [
    "data['gender'] = data['gender'].fillna('other')\n",
    "data.isna().sum()"
   ]
  },
  {
   "cell_type": "code",
   "execution_count": 7,
   "metadata": {},
   "outputs": [
    {
     "data": {
      "text/plain": [
       "0"
      ]
     },
     "execution_count": 7,
     "metadata": {},
     "output_type": "execute_result"
    }
   ],
   "source": [
    "# check duplicate values\n",
    "data.duplicated().sum()"
   ]
  },
  {
   "cell_type": "code",
   "execution_count": 8,
   "metadata": {},
   "outputs": [
    {
     "data": {
      "text/plain": [
       "<Axes: xlabel='bd'>"
      ]
     },
     "execution_count": 8,
     "metadata": {},
     "output_type": "execute_result"
    },
    {
     "data": {
      "image/png": "[encoded data removed]",
      "text/plain": [
       "<Figure size 640x480 with 1 Axes>"
      ]
     },
     "metadata": {},
     "output_type": "display_data"
    }
   ],
   "source": [
    "# handle outlier values in bd column\n",
    "sns.boxplot(x=data['bd'])"
   ]
  },
  {
   "cell_type": "code",
   "execution_count": 9,
   "metadata": {},
   "outputs": [],
   "source": [
    "# replace with median age\n",
    "median_age = data['bd'].median()\n",
    "data['bd'] = data['bd'].apply(lambda x:x if 13 <= x <= 99 else median_age)"
   ]
  },
  {
   "cell_type": "code",
   "execution_count": 10,
   "metadata": {},
   "outputs": [
    {
     "data": {
      "text/plain": [
       "<Axes: xlabel='bd'>"
      ]
     },
     "execution_count": 10,
     "metadata": {},
     "output_type": "execute_result"
    },
    {
     "data": {
      "image/png": "[encoded data removed]",
      "text/plain": [
       "<Figure size 640x480 with 1 Axes>"
      ]
     },
     "metadata": {},
     "output_type": "display_data"
    }
   ],
   "source": [
    "sns.boxplot(x=data['bd'])"
   ]
  },
  {
   "cell_type": "code",
   "execution_count": 11,
   "metadata": {},
   "outputs": [],
   "source": [
    "data.to_csv('train_df.csv', encoding='utf-8', index=False, header=True)"
   ]
  },
  {
   "cell_type": "code",
   "execution_count": null,
   "metadata": {},
   "outputs": [],
   "source": []
  }
 ],
 "metadata": {
  "kernelspec": {
   "display_name": "Python 3",
   "language": "python",
   "name": "python3"
  },
  "language_info": {
   "codemirror_mode": {
    "name": "ipython",
    "version": 3
   },
   "file_extension": ".py",
   "mimetype": "text/x-python",
   "name": "python",
   "nbconvert_exporter": "python",
   "pygments_lexer": "ipython3",
   "version": "3.12.0"
  }
 },
 "nbformat": 4,
 "nbformat_minor": 2
}
