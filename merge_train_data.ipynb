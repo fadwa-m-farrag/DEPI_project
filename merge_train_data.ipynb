{
 "cells": [
  {
   "cell_type": "code",
   "execution_count": 1,
   "metadata": {},
   "outputs": [],
   "source": [
    "import pandas as pd "
   ]
  },
  {
   "cell_type": "code",
   "execution_count": 2,
   "metadata": {},
   "outputs": [
    {
     "data": {
      "application/vnd.microsoft.datawrangler.viewer.v0+json": {
       "columns": [
        {
         "name": "index",
         "rawType": "int64",
         "type": "integer"
        },
        {
         "name": "msno",
         "rawType": "object",
         "type": "string"
        },
        {
         "name": "is_churn",
         "rawType": "int64",
         "type": "integer"
        }
       ],
       "conversionMethod": "pd.DataFrame",
       "ref": "d0492aca-d80c-44ae-85b6-4a635a57a0ff",
       "rows": [
        [
         "0",
         "Pp9fOyd/eG4D7qs1jUnvFagO/9XcbAVNkufTX2Q7wkw=",
         "0"
        ],
        [
         "1",
         "nUiYMBsiB/HaDWMF20ebBeWtw3xwoWrIGuFWa/J/Adc=",
         "0"
        ],
        [
         "2",
         "U6POp25OGlgekxcGt8yayx+myCGmO/n71UPqYxxyxQs=",
         "0"
        ],
        [
         "3",
         "dN8D0n8vugg05OR4U8NHIkd5g7HIc9TTuR003ZdYWR0=",
         "0"
        ],
        [
         "4",
         "JZn5kjsN5nNtqfUtlpu/+XNYzSsqqiGzejuRLbbBtoE=",
         "0"
        ]
       ],
       "shape": {
        "columns": 2,
        "rows": 5
       }
      },
      "text/html": [
       "<div>\n",
       "<style scoped>\n",
       "    .dataframe tbody tr th:only-of-type {\n",
       "        vertical-align: middle;\n",
       "    }\n",
       "\n",
       "    .dataframe tbody tr th {\n",
       "        vertical-align: top;\n",
       "    }\n",
       "\n",
       "    .dataframe thead th {\n",
       "        text-align: right;\n",
       "    }\n",
       "</style>\n",
       "<table border=\"1\" class=\"dataframe\">\n",
       "  <thead>\n",
       "    <tr style=\"text-align: right;\">\n",
       "      <th></th>\n",
       "      <th>msno</th>\n",
       "      <th>is_churn</th>\n",
       "    </tr>\n",
       "  </thead>\n",
       "  <tbody>\n",
       "    <tr>\n",
       "      <th>0</th>\n",
       "      <td>Pp9fOyd/eG4D7qs1jUnvFagO/9XcbAVNkufTX2Q7wkw=</td>\n",
       "      <td>0</td>\n",
       "    </tr>\n",
       "    <tr>\n",
       "      <th>1</th>\n",
       "      <td>nUiYMBsiB/HaDWMF20ebBeWtw3xwoWrIGuFWa/J/Adc=</td>\n",
       "      <td>0</td>\n",
       "    </tr>\n",
       "    <tr>\n",
       "      <th>2</th>\n",
       "      <td>U6POp25OGlgekxcGt8yayx+myCGmO/n71UPqYxxyxQs=</td>\n",
       "      <td>0</td>\n",
       "    </tr>\n",
       "    <tr>\n",
       "      <th>3</th>\n",
       "      <td>dN8D0n8vugg05OR4U8NHIkd5g7HIc9TTuR003ZdYWR0=</td>\n",
       "      <td>0</td>\n",
       "    </tr>\n",
       "    <tr>\n",
       "      <th>4</th>\n",
       "      <td>JZn5kjsN5nNtqfUtlpu/+XNYzSsqqiGzejuRLbbBtoE=</td>\n",
       "      <td>0</td>\n",
       "    </tr>\n",
       "  </tbody>\n",
       "</table>\n",
       "</div>"
      ],
      "text/plain": [
       "                                           msno  is_churn\n",
       "0  Pp9fOyd/eG4D7qs1jUnvFagO/9XcbAVNkufTX2Q7wkw=         0\n",
       "1  nUiYMBsiB/HaDWMF20ebBeWtw3xwoWrIGuFWa/J/Adc=         0\n",
       "2  U6POp25OGlgekxcGt8yayx+myCGmO/n71UPqYxxyxQs=         0\n",
       "3  dN8D0n8vugg05OR4U8NHIkd5g7HIc9TTuR003ZdYWR0=         0\n",
       "4  JZn5kjsN5nNtqfUtlpu/+XNYzSsqqiGzejuRLbbBtoE=         0"
      ]
     },
     "execution_count": 2,
     "metadata": {},
     "output_type": "execute_result"
    }
   ],
   "source": [
    "train_data = pd.read_csv(r'customer-retention-datathon-riyadh-edition\\train_data.csv')\n",
    "train_data.head()"
   ]
  },
  {
   "cell_type": "code",
   "execution_count": 3,
   "metadata": {},
   "outputs": [
    {
     "name": "stderr",
     "output_type": "stream",
     "text": [
      "C:\\Users\\fadwa\\AppData\\Local\\Temp\\ipykernel_368\\3263426229.py:1: DtypeWarning: Columns (3) have mixed types. Specify dtype option on import or set low_memory=False.\n",
      "  members = pd.read_csv(r'customer-retention-datathon-riyadh-edition\\members.csv')\n"
     ]
    },
    {
     "data": {
      "application/vnd.microsoft.datawrangler.viewer.v0+json": {
       "columns": [
        {
         "name": "index",
         "rawType": "int64",
         "type": "integer"
        },
        {
         "name": "msno",
         "rawType": "object",
         "type": "string"
        },
        {
         "name": "city",
         "rawType": "int64",
         "type": "integer"
        },
        {
         "name": "bd",
         "rawType": "int64",
         "type": "integer"
        },
        {
         "name": "gender",
         "rawType": "object",
         "type": "unknown"
        },
        {
         "name": "registered_via",
         "rawType": "int64",
         "type": "integer"
        },
        {
         "name": "registration_init_time",
         "rawType": "int64",
         "type": "integer"
        }
       ],
       "conversionMethod": "pd.DataFrame",
       "ref": "e4c38877-ba33-4194-9578-6c522f3f0441",
       "rows": [
        [
         "0",
         "kfe7o/IQJT+yPQnDM8Ru67XrTWCutEg20xinHKy6UxU=",
         "1",
         "0",
         null,
         "7",
         "20120320"
        ],
        [
         "1",
         "hkNDL7tng+4wVvrm5FGqTgaXMElTauo16CqxE63pavM=",
         "1",
         "0",
         null,
         "7",
         "20120320"
        ],
        [
         "2",
         "0eAH4euZqyyUreUiIASJ1cqYc0OBpvBFtxAz81bXl+s=",
         "1",
         "0",
         null,
         "7",
         "20120320"
        ],
        [
         "3",
         "dKTlgMn0d/UAglVcVUIS7bKv2d82Veahl4rbxhCtv/I=",
         "1",
         "0",
         null,
         "7",
         "20120320"
        ],
        [
         "4",
         "rAdkP5n4ra8lkTKZRqxLOyi+XJ9Enw++Nqtmx1XxilY=",
         "1",
         "0",
         null,
         "7",
         "20120320"
        ]
       ],
       "shape": {
        "columns": 6,
        "rows": 5
       }
      },
      "text/html": [
       "<div>\n",
       "<style scoped>\n",
       "    .dataframe tbody tr th:only-of-type {\n",
       "        vertical-align: middle;\n",
       "    }\n",
       "\n",
       "    .dataframe tbody tr th {\n",
       "        vertical-align: top;\n",
       "    }\n",
       "\n",
       "    .dataframe thead th {\n",
       "        text-align: right;\n",
       "    }\n",
       "</style>\n",
       "<table border=\"1\" class=\"dataframe\">\n",
       "  <thead>\n",
       "    <tr style=\"text-align: right;\">\n",
       "      <th></th>\n",
       "      <th>msno</th>\n",
       "      <th>city</th>\n",
       "      <th>bd</th>\n",
       "      <th>gender</th>\n",
       "      <th>registered_via</th>\n",
       "      <th>registration_init_time</th>\n",
       "    </tr>\n",
       "  </thead>\n",
       "  <tbody>\n",
       "    <tr>\n",
       "      <th>0</th>\n",
       "      <td>kfe7o/IQJT+yPQnDM8Ru67XrTWCutEg20xinHKy6UxU=</td>\n",
       "      <td>1</td>\n",
       "      <td>0</td>\n",
       "      <td>NaN</td>\n",
       "      <td>7</td>\n",
       "      <td>20120320</td>\n",
       "    </tr>\n",
       "    <tr>\n",
       "      <th>1</th>\n",
       "      <td>hkNDL7tng+4wVvrm5FGqTgaXMElTauo16CqxE63pavM=</td>\n",
       "      <td>1</td>\n",
       "      <td>0</td>\n",
       "      <td>NaN</td>\n",
       "      <td>7</td>\n",
       "      <td>20120320</td>\n",
       "    </tr>\n",
       "    <tr>\n",
       "      <th>2</th>\n",
       "      <td>0eAH4euZqyyUreUiIASJ1cqYc0OBpvBFtxAz81bXl+s=</td>\n",
       "      <td>1</td>\n",
       "      <td>0</td>\n",
       "      <td>NaN</td>\n",
       "      <td>7</td>\n",
       "      <td>20120320</td>\n",
       "    </tr>\n",
       "    <tr>\n",
       "      <th>3</th>\n",
       "      <td>dKTlgMn0d/UAglVcVUIS7bKv2d82Veahl4rbxhCtv/I=</td>\n",
       "      <td>1</td>\n",
       "      <td>0</td>\n",
       "      <td>NaN</td>\n",
       "      <td>7</td>\n",
       "      <td>20120320</td>\n",
       "    </tr>\n",
       "    <tr>\n",
       "      <th>4</th>\n",
       "      <td>rAdkP5n4ra8lkTKZRqxLOyi+XJ9Enw++Nqtmx1XxilY=</td>\n",
       "      <td>1</td>\n",
       "      <td>0</td>\n",
       "      <td>NaN</td>\n",
       "      <td>7</td>\n",
       "      <td>20120320</td>\n",
       "    </tr>\n",
       "  </tbody>\n",
       "</table>\n",
       "</div>"
      ],
      "text/plain": [
       "                                           msno  city  bd gender  \\\n",
       "0  kfe7o/IQJT+yPQnDM8Ru67XrTWCutEg20xinHKy6UxU=     1   0    NaN   \n",
       "1  hkNDL7tng+4wVvrm5FGqTgaXMElTauo16CqxE63pavM=     1   0    NaN   \n",
       "2  0eAH4euZqyyUreUiIASJ1cqYc0OBpvBFtxAz81bXl+s=     1   0    NaN   \n",
       "3  dKTlgMn0d/UAglVcVUIS7bKv2d82Veahl4rbxhCtv/I=     1   0    NaN   \n",
       "4  rAdkP5n4ra8lkTKZRqxLOyi+XJ9Enw++Nqtmx1XxilY=     1   0    NaN   \n",
       "\n",
       "   registered_via  registration_init_time  \n",
       "0               7                20120320  \n",
       "1               7                20120320  \n",
       "2               7                20120320  \n",
       "3               7                20120320  \n",
       "4               7                20120320  "
      ]
     },
     "execution_count": 3,
     "metadata": {},
     "output_type": "execute_result"
    }
   ],
   "source": [
    "members = pd.read_csv(r'customer-retention-datathon-riyadh-edition\\members.csv')\n",
    "members.head()"
   ]
  },
  {
   "cell_type": "code",
   "execution_count": 4,
   "metadata": {},
   "outputs": [
    {
     "data": {
      "application/vnd.microsoft.datawrangler.viewer.v0+json": {
       "columns": [
        {
         "name": "index",
         "rawType": "int64",
         "type": "integer"
        },
        {
         "name": "msno",
         "rawType": "object",
         "type": "string"
        },
        {
         "name": "date",
         "rawType": "int64",
         "type": "integer"
        },
        {
         "name": "num_25",
         "rawType": "int64",
         "type": "integer"
        },
        {
         "name": "num_50",
         "rawType": "int64",
         "type": "integer"
        },
        {
         "name": "num_75",
         "rawType": "int64",
         "type": "integer"
        },
        {
         "name": "num_985",
         "rawType": "int64",
         "type": "integer"
        },
        {
         "name": "num_100",
         "rawType": "int64",
         "type": "integer"
        },
        {
         "name": "num_unq",
         "rawType": "int64",
         "type": "integer"
        },
        {
         "name": "total_secs",
         "rawType": "float64",
         "type": "float"
        }
       ],
       "conversionMethod": "pd.DataFrame",
       "ref": "6789347b-69ca-4422-9cc4-9d82c16aec70",
       "rows": [
        [
         "0",
         "u9E91QDTvHLq6NXjEaWv8u4QIqhrHk72kE+w31Gnhdg=",
         "20170331",
         "8",
         "4",
         "0",
         "1",
         "21",
         "18",
         "6309.273"
        ],
        [
         "1",
         "nTeWW/eOZA/UHKdD5L7DEqKKFTjaAj3ALLPoAWsU8n0=",
         "20170330",
         "2",
         "2",
         "1",
         "0",
         "9",
         "11",
         "2390.699"
        ],
        [
         "2",
         "2UqkWXwZbIjs03dHLU9KHJNNEvEkZVzm69f3jCS+uLI=",
         "20170331",
         "52",
         "3",
         "5",
         "3",
         "84",
         "110",
         "23203.337"
        ],
        [
         "3",
         "ycwLc+m2O0a85jSLALtr941AaZt9ai8Qwlg9n0Nql5U=",
         "20170331",
         "176",
         "4",
         "2",
         "2",
         "19",
         "191",
         "7100.454"
        ],
        [
         "4",
         "EGcbTofOSOkMmQyN1NMLxHEXJ1yV3t/JdhGwQ9wXjnI=",
         "20170331",
         "2",
         "1",
         "0",
         "1",
         "112",
         "93",
         "28401.558"
        ]
       ],
       "shape": {
        "columns": 9,
        "rows": 5
       }
      },
      "text/html": [
       "<div>\n",
       "<style scoped>\n",
       "    .dataframe tbody tr th:only-of-type {\n",
       "        vertical-align: middle;\n",
       "    }\n",
       "\n",
       "    .dataframe tbody tr th {\n",
       "        vertical-align: top;\n",
       "    }\n",
       "\n",
       "    .dataframe thead th {\n",
       "        text-align: right;\n",
       "    }\n",
       "</style>\n",
       "<table border=\"1\" class=\"dataframe\">\n",
       "  <thead>\n",
       "    <tr style=\"text-align: right;\">\n",
       "      <th></th>\n",
       "      <th>msno</th>\n",
       "      <th>date</th>\n",
       "      <th>num_25</th>\n",
       "      <th>num_50</th>\n",
       "      <th>num_75</th>\n",
       "      <th>num_985</th>\n",
       "      <th>num_100</th>\n",
       "      <th>num_unq</th>\n",
       "      <th>total_secs</th>\n",
       "    </tr>\n",
       "  </thead>\n",
       "  <tbody>\n",
       "    <tr>\n",
       "      <th>0</th>\n",
       "      <td>u9E91QDTvHLq6NXjEaWv8u4QIqhrHk72kE+w31Gnhdg=</td>\n",
       "      <td>20170331</td>\n",
       "      <td>8</td>\n",
       "      <td>4</td>\n",
       "      <td>0</td>\n",
       "      <td>1</td>\n",
       "      <td>21</td>\n",
       "      <td>18</td>\n",
       "      <td>6309.273</td>\n",
       "    </tr>\n",
       "    <tr>\n",
       "      <th>1</th>\n",
       "      <td>nTeWW/eOZA/UHKdD5L7DEqKKFTjaAj3ALLPoAWsU8n0=</td>\n",
       "      <td>20170330</td>\n",
       "      <td>2</td>\n",
       "      <td>2</td>\n",
       "      <td>1</td>\n",
       "      <td>0</td>\n",
       "      <td>9</td>\n",
       "      <td>11</td>\n",
       "      <td>2390.699</td>\n",
       "    </tr>\n",
       "    <tr>\n",
       "      <th>2</th>\n",
       "      <td>2UqkWXwZbIjs03dHLU9KHJNNEvEkZVzm69f3jCS+uLI=</td>\n",
       "      <td>20170331</td>\n",
       "      <td>52</td>\n",
       "      <td>3</td>\n",
       "      <td>5</td>\n",
       "      <td>3</td>\n",
       "      <td>84</td>\n",
       "      <td>110</td>\n",
       "      <td>23203.337</td>\n",
       "    </tr>\n",
       "    <tr>\n",
       "      <th>3</th>\n",
       "      <td>ycwLc+m2O0a85jSLALtr941AaZt9ai8Qwlg9n0Nql5U=</td>\n",
       "      <td>20170331</td>\n",
       "      <td>176</td>\n",
       "      <td>4</td>\n",
       "      <td>2</td>\n",
       "      <td>2</td>\n",
       "      <td>19</td>\n",
       "      <td>191</td>\n",
       "      <td>7100.454</td>\n",
       "    </tr>\n",
       "    <tr>\n",
       "      <th>4</th>\n",
       "      <td>EGcbTofOSOkMmQyN1NMLxHEXJ1yV3t/JdhGwQ9wXjnI=</td>\n",
       "      <td>20170331</td>\n",
       "      <td>2</td>\n",
       "      <td>1</td>\n",
       "      <td>0</td>\n",
       "      <td>1</td>\n",
       "      <td>112</td>\n",
       "      <td>93</td>\n",
       "      <td>28401.558</td>\n",
       "    </tr>\n",
       "  </tbody>\n",
       "</table>\n",
       "</div>"
      ],
      "text/plain": [
       "                                           msno      date  num_25  num_50  \\\n",
       "0  u9E91QDTvHLq6NXjEaWv8u4QIqhrHk72kE+w31Gnhdg=  20170331       8       4   \n",
       "1  nTeWW/eOZA/UHKdD5L7DEqKKFTjaAj3ALLPoAWsU8n0=  20170330       2       2   \n",
       "2  2UqkWXwZbIjs03dHLU9KHJNNEvEkZVzm69f3jCS+uLI=  20170331      52       3   \n",
       "3  ycwLc+m2O0a85jSLALtr941AaZt9ai8Qwlg9n0Nql5U=  20170331     176       4   \n",
       "4  EGcbTofOSOkMmQyN1NMLxHEXJ1yV3t/JdhGwQ9wXjnI=  20170331       2       1   \n",
       "\n",
       "   num_75  num_985  num_100  num_unq  total_secs  \n",
       "0       0        1       21       18    6309.273  \n",
       "1       1        0        9       11    2390.699  \n",
       "2       5        3       84      110   23203.337  \n",
       "3       2        2       19      191    7100.454  \n",
       "4       0        1      112       93   28401.558  "
      ]
     },
     "execution_count": 4,
     "metadata": {},
     "output_type": "execute_result"
    }
   ],
   "source": [
    "user_logs = pd.read_csv(r'customer-retention-datathon-riyadh-edition\\user_logs.csv')\n",
    "user_logs.head()"
   ]
  },
  {
   "cell_type": "code",
   "execution_count": 5,
   "metadata": {},
   "outputs": [
    {
     "data": {
      "application/vnd.microsoft.datawrangler.viewer.v0+json": {
       "columns": [
        {
         "name": "index",
         "rawType": "int64",
         "type": "integer"
        },
        {
         "name": "msno",
         "rawType": "object",
         "type": "string"
        },
        {
         "name": "payment_method_id",
         "rawType": "int64",
         "type": "integer"
        },
        {
         "name": "payment_plan_days",
         "rawType": "int64",
         "type": "integer"
        },
        {
         "name": "plan_list_price",
         "rawType": "int64",
         "type": "integer"
        },
        {
         "name": "actual_amount_paid",
         "rawType": "int64",
         "type": "integer"
        },
        {
         "name": "is_auto_renew",
         "rawType": "int64",
         "type": "integer"
        },
        {
         "name": "transaction_date",
         "rawType": "int64",
         "type": "integer"
        },
        {
         "name": "membership_expire_date",
         "rawType": "int64",
         "type": "integer"
        },
        {
         "name": "is_cancel",
         "rawType": "int64",
         "type": "integer"
        }
       ],
       "conversionMethod": "pd.DataFrame",
       "ref": "ade1e1ba-b263-4915-b3aa-ef9cef3d3561",
       "rows": [
        [
         "0",
         "++6eU4LsQ3UQ20ILS7d99XK8WbiVgbyYL4FUgzZR134=",
         "32",
         "90",
         "298",
         "298",
         "0",
         "20170131",
         "20170504",
         "0"
        ],
        [
         "1",
         "+kdzMTBwnWkFvWCLiK94UXAzRubMomjCNXTpqVlM/WM=",
         "20",
         "100",
         "480",
         "480",
         "0",
         "20170107",
         "20170417",
         "0"
        ],
        [
         "2",
         "+weVl2uf/jJEy1ziJb8OGWAyEOOEtzr4WGlSacjolgo=",
         "38",
         "365",
         "1299",
         "1299",
         "0",
         "20170115",
         "20180115",
         "0"
        ],
        [
         "3",
         "/R6+tah0zuDQIQPr80CiuQMfqIxrQS0aRX5u7STjpGM=",
         "32",
         "180",
         "699",
         "699",
         "0",
         "20161218",
         "20170616",
         "0"
        ],
        [
         "4",
         "/m9G2inXqltccUgil2basIPC3WKx2vyS6nueJoxPDxw=",
         "38",
         "365",
         "1299",
         "1299",
         "0",
         "20161103",
         "20171215",
         "0"
        ]
       ],
       "shape": {
        "columns": 9,
        "rows": 5
       }
      },
      "text/html": [
       "<div>\n",
       "<style scoped>\n",
       "    .dataframe tbody tr th:only-of-type {\n",
       "        vertical-align: middle;\n",
       "    }\n",
       "\n",
       "    .dataframe tbody tr th {\n",
       "        vertical-align: top;\n",
       "    }\n",
       "\n",
       "    .dataframe thead th {\n",
       "        text-align: right;\n",
       "    }\n",
       "</style>\n",
       "<table border=\"1\" class=\"dataframe\">\n",
       "  <thead>\n",
       "    <tr style=\"text-align: right;\">\n",
       "      <th></th>\n",
       "      <th>msno</th>\n",
       "      <th>payment_method_id</th>\n",
       "      <th>payment_plan_days</th>\n",
       "      <th>plan_list_price</th>\n",
       "      <th>actual_amount_paid</th>\n",
       "      <th>is_auto_renew</th>\n",
       "      <th>transaction_date</th>\n",
       "      <th>membership_expire_date</th>\n",
       "      <th>is_cancel</th>\n",
       "    </tr>\n",
       "  </thead>\n",
       "  <tbody>\n",
       "    <tr>\n",
       "      <th>0</th>\n",
       "      <td>++6eU4LsQ3UQ20ILS7d99XK8WbiVgbyYL4FUgzZR134=</td>\n",
       "      <td>32</td>\n",
       "      <td>90</td>\n",
       "      <td>298</td>\n",
       "      <td>298</td>\n",
       "      <td>0</td>\n",
       "      <td>20170131</td>\n",
       "      <td>20170504</td>\n",
       "      <td>0</td>\n",
       "    </tr>\n",
       "    <tr>\n",
       "      <th>1</th>\n",
       "      <td>+kdzMTBwnWkFvWCLiK94UXAzRubMomjCNXTpqVlM/WM=</td>\n",
       "      <td>20</td>\n",
       "      <td>100</td>\n",
       "      <td>480</td>\n",
       "      <td>480</td>\n",
       "      <td>0</td>\n",
       "      <td>20170107</td>\n",
       "      <td>20170417</td>\n",
       "      <td>0</td>\n",
       "    </tr>\n",
       "    <tr>\n",
       "      <th>2</th>\n",
       "      <td>+weVl2uf/jJEy1ziJb8OGWAyEOOEtzr4WGlSacjolgo=</td>\n",
       "      <td>38</td>\n",
       "      <td>365</td>\n",
       "      <td>1299</td>\n",
       "      <td>1299</td>\n",
       "      <td>0</td>\n",
       "      <td>20170115</td>\n",
       "      <td>20180115</td>\n",
       "      <td>0</td>\n",
       "    </tr>\n",
       "    <tr>\n",
       "      <th>3</th>\n",
       "      <td>/R6+tah0zuDQIQPr80CiuQMfqIxrQS0aRX5u7STjpGM=</td>\n",
       "      <td>32</td>\n",
       "      <td>180</td>\n",
       "      <td>699</td>\n",
       "      <td>699</td>\n",
       "      <td>0</td>\n",
       "      <td>20161218</td>\n",
       "      <td>20170616</td>\n",
       "      <td>0</td>\n",
       "    </tr>\n",
       "    <tr>\n",
       "      <th>4</th>\n",
       "      <td>/m9G2inXqltccUgil2basIPC3WKx2vyS6nueJoxPDxw=</td>\n",
       "      <td>38</td>\n",
       "      <td>365</td>\n",
       "      <td>1299</td>\n",
       "      <td>1299</td>\n",
       "      <td>0</td>\n",
       "      <td>20161103</td>\n",
       "      <td>20171215</td>\n",
       "      <td>0</td>\n",
       "    </tr>\n",
       "  </tbody>\n",
       "</table>\n",
       "</div>"
      ],
      "text/plain": [
       "                                           msno  payment_method_id  \\\n",
       "0  ++6eU4LsQ3UQ20ILS7d99XK8WbiVgbyYL4FUgzZR134=                 32   \n",
       "1  +kdzMTBwnWkFvWCLiK94UXAzRubMomjCNXTpqVlM/WM=                 20   \n",
       "2  +weVl2uf/jJEy1ziJb8OGWAyEOOEtzr4WGlSacjolgo=                 38   \n",
       "3  /R6+tah0zuDQIQPr80CiuQMfqIxrQS0aRX5u7STjpGM=                 32   \n",
       "4  /m9G2inXqltccUgil2basIPC3WKx2vyS6nueJoxPDxw=                 38   \n",
       "\n",
       "   payment_plan_days  plan_list_price  actual_amount_paid  is_auto_renew  \\\n",
       "0                 90              298                 298              0   \n",
       "1                100              480                 480              0   \n",
       "2                365             1299                1299              0   \n",
       "3                180              699                 699              0   \n",
       "4                365             1299                1299              0   \n",
       "\n",
       "   transaction_date  membership_expire_date  is_cancel  \n",
       "0          20170131                20170504          0  \n",
       "1          20170107                20170417          0  \n",
       "2          20170115                20180115          0  \n",
       "3          20161218                20170616          0  \n",
       "4          20161103                20171215          0  "
      ]
     },
     "execution_count": 5,
     "metadata": {},
     "output_type": "execute_result"
    }
   ],
   "source": [
    "transactions = pd.read_csv(r'customer-retention-datathon-riyadh-edition\\transactions.csv')\n",
    "transactions.head()"
   ]
  },
  {
   "cell_type": "code",
   "execution_count": 8,
   "metadata": {},
   "outputs": [
    {
     "data": {
      "application/vnd.microsoft.datawrangler.viewer.v0+json": {
       "columns": [
        {
         "name": "index",
         "rawType": "int64",
         "type": "integer"
        },
        {
         "name": "msno",
         "rawType": "object",
         "type": "string"
        },
        {
         "name": "is_churn",
         "rawType": "int64",
         "type": "integer"
        },
        {
         "name": "city",
         "rawType": "int64",
         "type": "integer"
        },
        {
         "name": "bd",
         "rawType": "int64",
         "type": "integer"
        },
        {
         "name": "gender",
         "rawType": "object",
         "type": "string"
        },
        {
         "name": "registered_via",
         "rawType": "int64",
         "type": "integer"
        },
        {
         "name": "registration_init_time",
         "rawType": "int64",
         "type": "integer"
        }
       ],
       "conversionMethod": "pd.DataFrame",
       "ref": "471c008f-7046-4d53-a508-fcf526c80c10",
       "rows": [
        [
         "0",
         "Pp9fOyd/eG4D7qs1jUnvFagO/9XcbAVNkufTX2Q7wkw=",
         "0",
         "5",
         "29",
         "male",
         "9",
         "20110911"
        ],
        [
         "1",
         "nUiYMBsiB/HaDWMF20ebBeWtw3xwoWrIGuFWa/J/Adc=",
         "0",
         "13",
         "36",
         "male",
         "9",
         "20110913"
        ],
        [
         "2",
         "U6POp25OGlgekxcGt8yayx+myCGmO/n71UPqYxxyxQs=",
         "0",
         "13",
         "40",
         "male",
         "9",
         "20110913"
        ],
        [
         "3",
         "dN8D0n8vugg05OR4U8NHIkd5g7HIc9TTuR003ZdYWR0=",
         "0",
         "3",
         "46",
         "male",
         "9",
         "20110916"
        ],
        [
         "4",
         "JZn5kjsN5nNtqfUtlpu/+XNYzSsqqiGzejuRLbbBtoE=",
         "0",
         "4",
         "28",
         "female",
         "9",
         "20110918"
        ]
       ],
       "shape": {
        "columns": 7,
        "rows": 5
       }
      },
      "text/html": [
       "<div>\n",
       "<style scoped>\n",
       "    .dataframe tbody tr th:only-of-type {\n",
       "        vertical-align: middle;\n",
       "    }\n",
       "\n",
       "    .dataframe tbody tr th {\n",
       "        vertical-align: top;\n",
       "    }\n",
       "\n",
       "    .dataframe thead th {\n",
       "        text-align: right;\n",
       "    }\n",
       "</style>\n",
       "<table border=\"1\" class=\"dataframe\">\n",
       "  <thead>\n",
       "    <tr style=\"text-align: right;\">\n",
       "      <th></th>\n",
       "      <th>msno</th>\n",
       "      <th>is_churn</th>\n",
       "      <th>city</th>\n",
       "      <th>bd</th>\n",
       "      <th>gender</th>\n",
       "      <th>registered_via</th>\n",
       "      <th>registration_init_time</th>\n",
       "    </tr>\n",
       "  </thead>\n",
       "  <tbody>\n",
       "    <tr>\n",
       "      <th>0</th>\n",
       "      <td>Pp9fOyd/eG4D7qs1jUnvFagO/9XcbAVNkufTX2Q7wkw=</td>\n",
       "      <td>0</td>\n",
       "      <td>5</td>\n",
       "      <td>29</td>\n",
       "      <td>male</td>\n",
       "      <td>9</td>\n",
       "      <td>20110911</td>\n",
       "    </tr>\n",
       "    <tr>\n",
       "      <th>1</th>\n",
       "      <td>nUiYMBsiB/HaDWMF20ebBeWtw3xwoWrIGuFWa/J/Adc=</td>\n",
       "      <td>0</td>\n",
       "      <td>13</td>\n",
       "      <td>36</td>\n",
       "      <td>male</td>\n",
       "      <td>9</td>\n",
       "      <td>20110913</td>\n",
       "    </tr>\n",
       "    <tr>\n",
       "      <th>2</th>\n",
       "      <td>U6POp25OGlgekxcGt8yayx+myCGmO/n71UPqYxxyxQs=</td>\n",
       "      <td>0</td>\n",
       "      <td>13</td>\n",
       "      <td>40</td>\n",
       "      <td>male</td>\n",
       "      <td>9</td>\n",
       "      <td>20110913</td>\n",
       "    </tr>\n",
       "    <tr>\n",
       "      <th>3</th>\n",
       "      <td>dN8D0n8vugg05OR4U8NHIkd5g7HIc9TTuR003ZdYWR0=</td>\n",
       "      <td>0</td>\n",
       "      <td>3</td>\n",
       "      <td>46</td>\n",
       "      <td>male</td>\n",
       "      <td>9</td>\n",
       "      <td>20110916</td>\n",
       "    </tr>\n",
       "    <tr>\n",
       "      <th>4</th>\n",
       "      <td>JZn5kjsN5nNtqfUtlpu/+XNYzSsqqiGzejuRLbbBtoE=</td>\n",
       "      <td>0</td>\n",
       "      <td>4</td>\n",
       "      <td>28</td>\n",
       "      <td>female</td>\n",
       "      <td>9</td>\n",
       "      <td>20110918</td>\n",
       "    </tr>\n",
       "  </tbody>\n",
       "</table>\n",
       "</div>"
      ],
      "text/plain": [
       "                                           msno  is_churn  city  bd  gender  \\\n",
       "0  Pp9fOyd/eG4D7qs1jUnvFagO/9XcbAVNkufTX2Q7wkw=         0     5  29    male   \n",
       "1  nUiYMBsiB/HaDWMF20ebBeWtw3xwoWrIGuFWa/J/Adc=         0    13  36    male   \n",
       "2  U6POp25OGlgekxcGt8yayx+myCGmO/n71UPqYxxyxQs=         0    13  40    male   \n",
       "3  dN8D0n8vugg05OR4U8NHIkd5g7HIc9TTuR003ZdYWR0=         0     3  46    male   \n",
       "4  JZn5kjsN5nNtqfUtlpu/+XNYzSsqqiGzejuRLbbBtoE=         0     4  28  female   \n",
       "\n",
       "   registered_via  registration_init_time  \n",
       "0               9                20110911  \n",
       "1               9                20110913  \n",
       "2               9                20110913  \n",
       "3               9                20110916  \n",
       "4               9                20110918  "
      ]
     },
     "execution_count": 8,
     "metadata": {},
     "output_type": "execute_result"
    }
   ],
   "source": [
    "train_df = pd.merge(train_data, members, on='msno', how='inner')\n",
    "train_df.head()"
   ]
  },
  {
   "cell_type": "code",
   "execution_count": 9,
   "metadata": {},
   "outputs": [
    {
     "data": {
      "application/vnd.microsoft.datawrangler.viewer.v0+json": {
       "columns": [
        {
         "name": "index",
         "rawType": "int64",
         "type": "integer"
        },
        {
         "name": "msno",
         "rawType": "object",
         "type": "string"
        },
        {
         "name": "is_churn",
         "rawType": "int64",
         "type": "integer"
        },
        {
         "name": "city",
         "rawType": "int64",
         "type": "integer"
        },
        {
         "name": "bd",
         "rawType": "int64",
         "type": "integer"
        },
        {
         "name": "gender",
         "rawType": "object",
         "type": "string"
        },
        {
         "name": "registered_via",
         "rawType": "int64",
         "type": "integer"
        },
        {
         "name": "registration_init_time",
         "rawType": "int64",
         "type": "integer"
        },
        {
         "name": "date",
         "rawType": "int64",
         "type": "integer"
        },
        {
         "name": "num_25",
         "rawType": "int64",
         "type": "integer"
        },
        {
         "name": "num_50",
         "rawType": "int64",
         "type": "integer"
        },
        {
         "name": "num_75",
         "rawType": "int64",
         "type": "integer"
        },
        {
         "name": "num_985",
         "rawType": "int64",
         "type": "integer"
        },
        {
         "name": "num_100",
         "rawType": "int64",
         "type": "integer"
        },
        {
         "name": "num_unq",
         "rawType": "int64",
         "type": "integer"
        },
        {
         "name": "total_secs",
         "rawType": "float64",
         "type": "float"
        }
       ],
       "conversionMethod": "pd.DataFrame",
       "ref": "e2ab722c-444f-4ff1-9010-947a3b7ccab1",
       "rows": [
        [
         "0",
         "nUiYMBsiB/HaDWMF20ebBeWtw3xwoWrIGuFWa/J/Adc=",
         "0",
         "13",
         "36",
         "male",
         "9",
         "20110913",
         "20170313",
         "0",
         "0",
         "1",
         "0",
         "14",
         "15",
         "4028.665"
        ],
        [
         "1",
         "nUiYMBsiB/HaDWMF20ebBeWtw3xwoWrIGuFWa/J/Adc=",
         "0",
         "13",
         "36",
         "male",
         "9",
         "20110913",
         "20170321",
         "2",
         "2",
         "0",
         "0",
         "20",
         "24",
         "5710.17"
        ],
        [
         "2",
         "nUiYMBsiB/HaDWMF20ebBeWtw3xwoWrIGuFWa/J/Adc=",
         "0",
         "13",
         "36",
         "male",
         "9",
         "20110913",
         "20170312",
         "0",
         "1",
         "0",
         "0",
         "7",
         "8",
         "2351.508"
        ],
        [
         "3",
         "nUiYMBsiB/HaDWMF20ebBeWtw3xwoWrIGuFWa/J/Adc=",
         "0",
         "13",
         "36",
         "male",
         "9",
         "20110913",
         "20170302",
         "0",
         "0",
         "0",
         "0",
         "2",
         "2",
         "523.702"
        ],
        [
         "4",
         "nUiYMBsiB/HaDWMF20ebBeWtw3xwoWrIGuFWa/J/Adc=",
         "0",
         "13",
         "36",
         "male",
         "9",
         "20110913",
         "20170314",
         "0",
         "1",
         "0",
         "1",
         "17",
         "19",
         "4705.77"
        ]
       ],
       "shape": {
        "columns": 15,
        "rows": 5
       }
      },
      "text/html": [
       "<div>\n",
       "<style scoped>\n",
       "    .dataframe tbody tr th:only-of-type {\n",
       "        vertical-align: middle;\n",
       "    }\n",
       "\n",
       "    .dataframe tbody tr th {\n",
       "        vertical-align: top;\n",
       "    }\n",
       "\n",
       "    .dataframe thead th {\n",
       "        text-align: right;\n",
       "    }\n",
       "</style>\n",
       "<table border=\"1\" class=\"dataframe\">\n",
       "  <thead>\n",
       "    <tr style=\"text-align: right;\">\n",
       "      <th></th>\n",
       "      <th>msno</th>\n",
       "      <th>is_churn</th>\n",
       "      <th>city</th>\n",
       "      <th>bd</th>\n",
       "      <th>gender</th>\n",
       "      <th>registered_via</th>\n",
       "      <th>registration_init_time</th>\n",
       "      <th>date</th>\n",
       "      <th>num_25</th>\n",
       "      <th>num_50</th>\n",
       "      <th>num_75</th>\n",
       "      <th>num_985</th>\n",
       "      <th>num_100</th>\n",
       "      <th>num_unq</th>\n",
       "      <th>total_secs</th>\n",
       "    </tr>\n",
       "  </thead>\n",
       "  <tbody>\n",
       "    <tr>\n",
       "      <th>0</th>\n",
       "      <td>nUiYMBsiB/HaDWMF20ebBeWtw3xwoWrIGuFWa/J/Adc=</td>\n",
       "      <td>0</td>\n",
       "      <td>13</td>\n",
       "      <td>36</td>\n",
       "      <td>male</td>\n",
       "      <td>9</td>\n",
       "      <td>20110913</td>\n",
       "      <td>20170313</td>\n",
       "      <td>0</td>\n",
       "      <td>0</td>\n",
       "      <td>1</td>\n",
       "      <td>0</td>\n",
       "      <td>14</td>\n",
       "      <td>15</td>\n",
       "      <td>4028.665</td>\n",
       "    </tr>\n",
       "    <tr>\n",
       "      <th>1</th>\n",
       "      <td>nUiYMBsiB/HaDWMF20ebBeWtw3xwoWrIGuFWa/J/Adc=</td>\n",
       "      <td>0</td>\n",
       "      <td>13</td>\n",
       "      <td>36</td>\n",
       "      <td>male</td>\n",
       "      <td>9</td>\n",
       "      <td>20110913</td>\n",
       "      <td>20170321</td>\n",
       "      <td>2</td>\n",
       "      <td>2</td>\n",
       "      <td>0</td>\n",
       "      <td>0</td>\n",
       "      <td>20</td>\n",
       "      <td>24</td>\n",
       "      <td>5710.170</td>\n",
       "    </tr>\n",
       "    <tr>\n",
       "      <th>2</th>\n",
       "      <td>nUiYMBsiB/HaDWMF20ebBeWtw3xwoWrIGuFWa/J/Adc=</td>\n",
       "      <td>0</td>\n",
       "      <td>13</td>\n",
       "      <td>36</td>\n",
       "      <td>male</td>\n",
       "      <td>9</td>\n",
       "      <td>20110913</td>\n",
       "      <td>20170312</td>\n",
       "      <td>0</td>\n",
       "      <td>1</td>\n",
       "      <td>0</td>\n",
       "      <td>0</td>\n",
       "      <td>7</td>\n",
       "      <td>8</td>\n",
       "      <td>2351.508</td>\n",
       "    </tr>\n",
       "    <tr>\n",
       "      <th>3</th>\n",
       "      <td>nUiYMBsiB/HaDWMF20ebBeWtw3xwoWrIGuFWa/J/Adc=</td>\n",
       "      <td>0</td>\n",
       "      <td>13</td>\n",
       "      <td>36</td>\n",
       "      <td>male</td>\n",
       "      <td>9</td>\n",
       "      <td>20110913</td>\n",
       "      <td>20170302</td>\n",
       "      <td>0</td>\n",
       "      <td>0</td>\n",
       "      <td>0</td>\n",
       "      <td>0</td>\n",
       "      <td>2</td>\n",
       "      <td>2</td>\n",
       "      <td>523.702</td>\n",
       "    </tr>\n",
       "    <tr>\n",
       "      <th>4</th>\n",
       "      <td>nUiYMBsiB/HaDWMF20ebBeWtw3xwoWrIGuFWa/J/Adc=</td>\n",
       "      <td>0</td>\n",
       "      <td>13</td>\n",
       "      <td>36</td>\n",
       "      <td>male</td>\n",
       "      <td>9</td>\n",
       "      <td>20110913</td>\n",
       "      <td>20170314</td>\n",
       "      <td>0</td>\n",
       "      <td>1</td>\n",
       "      <td>0</td>\n",
       "      <td>1</td>\n",
       "      <td>17</td>\n",
       "      <td>19</td>\n",
       "      <td>4705.770</td>\n",
       "    </tr>\n",
       "  </tbody>\n",
       "</table>\n",
       "</div>"
      ],
      "text/plain": [
       "                                           msno  is_churn  city  bd gender  \\\n",
       "0  nUiYMBsiB/HaDWMF20ebBeWtw3xwoWrIGuFWa/J/Adc=         0    13  36   male   \n",
       "1  nUiYMBsiB/HaDWMF20ebBeWtw3xwoWrIGuFWa/J/Adc=         0    13  36   male   \n",
       "2  nUiYMBsiB/HaDWMF20ebBeWtw3xwoWrIGuFWa/J/Adc=         0    13  36   male   \n",
       "3  nUiYMBsiB/HaDWMF20ebBeWtw3xwoWrIGuFWa/J/Adc=         0    13  36   male   \n",
       "4  nUiYMBsiB/HaDWMF20ebBeWtw3xwoWrIGuFWa/J/Adc=         0    13  36   male   \n",
       "\n",
       "   registered_via  registration_init_time      date  num_25  num_50  num_75  \\\n",
       "0               9                20110913  20170313       0       0       1   \n",
       "1               9                20110913  20170321       2       2       0   \n",
       "2               9                20110913  20170312       0       1       0   \n",
       "3               9                20110913  20170302       0       0       0   \n",
       "4               9                20110913  20170314       0       1       0   \n",
       "\n",
       "   num_985  num_100  num_unq  total_secs  \n",
       "0        0       14       15    4028.665  \n",
       "1        0       20       24    5710.170  \n",
       "2        0        7        8    2351.508  \n",
       "3        0        2        2     523.702  \n",
       "4        1       17       19    4705.770  "
      ]
     },
     "execution_count": 9,
     "metadata": {},
     "output_type": "execute_result"
    }
   ],
   "source": [
    "train_df = pd.merge(train_df, user_logs, on='msno', how='inner')\n",
    "train_df.head()"
   ]
  },
  {
   "cell_type": "code",
   "execution_count": 10,
   "metadata": {},
   "outputs": [
    {
     "data": {
      "application/vnd.microsoft.datawrangler.viewer.v0+json": {
       "columns": [
        {
         "name": "index",
         "rawType": "int64",
         "type": "integer"
        },
        {
         "name": "msno",
         "rawType": "object",
         "type": "string"
        },
        {
         "name": "is_churn",
         "rawType": "int64",
         "type": "integer"
        },
        {
         "name": "city",
         "rawType": "int64",
         "type": "integer"
        },
        {
         "name": "bd",
         "rawType": "int64",
         "type": "integer"
        },
        {
         "name": "gender",
         "rawType": "object",
         "type": "string"
        },
        {
         "name": "registered_via",
         "rawType": "int64",
         "type": "integer"
        },
        {
         "name": "registration_init_time",
         "rawType": "int64",
         "type": "integer"
        },
        {
         "name": "date",
         "rawType": "int64",
         "type": "integer"
        },
        {
         "name": "num_25",
         "rawType": "int64",
         "type": "integer"
        },
        {
         "name": "num_50",
         "rawType": "int64",
         "type": "integer"
        },
        {
         "name": "num_75",
         "rawType": "int64",
         "type": "integer"
        },
        {
         "name": "num_985",
         "rawType": "int64",
         "type": "integer"
        },
        {
         "name": "num_100",
         "rawType": "int64",
         "type": "integer"
        },
        {
         "name": "num_unq",
         "rawType": "int64",
         "type": "integer"
        },
        {
         "name": "total_secs",
         "rawType": "float64",
         "type": "float"
        },
        {
         "name": "payment_method_id",
         "rawType": "int64",
         "type": "integer"
        },
        {
         "name": "payment_plan_days",
         "rawType": "int64",
         "type": "integer"
        },
        {
         "name": "plan_list_price",
         "rawType": "int64",
         "type": "integer"
        },
        {
         "name": "actual_amount_paid",
         "rawType": "int64",
         "type": "integer"
        },
        {
         "name": "is_auto_renew",
         "rawType": "int64",
         "type": "integer"
        },
        {
         "name": "transaction_date",
         "rawType": "int64",
         "type": "integer"
        },
        {
         "name": "membership_expire_date",
         "rawType": "int64",
         "type": "integer"
        },
        {
         "name": "is_cancel",
         "rawType": "int64",
         "type": "integer"
        }
       ],
       "conversionMethod": "pd.DataFrame",
       "ref": "2372ed28-617a-4b91-ad7d-1d649f8554c5",
       "rows": [
        [
         "0",
         "nUiYMBsiB/HaDWMF20ebBeWtw3xwoWrIGuFWa/J/Adc=",
         "0",
         "13",
         "36",
         "male",
         "9",
         "20110913",
         "20170313",
         "0",
         "0",
         "1",
         "0",
         "14",
         "15",
         "4028.665",
         "40",
         "30",
         "149",
         "149",
         "1",
         "20170313",
         "20170419",
         "0"
        ],
        [
         "1",
         "nUiYMBsiB/HaDWMF20ebBeWtw3xwoWrIGuFWa/J/Adc=",
         "0",
         "13",
         "36",
         "male",
         "9",
         "20110913",
         "20170321",
         "2",
         "2",
         "0",
         "0",
         "20",
         "24",
         "5710.17",
         "40",
         "30",
         "149",
         "149",
         "1",
         "20170313",
         "20170419",
         "0"
        ],
        [
         "2",
         "nUiYMBsiB/HaDWMF20ebBeWtw3xwoWrIGuFWa/J/Adc=",
         "0",
         "13",
         "36",
         "male",
         "9",
         "20110913",
         "20170312",
         "0",
         "1",
         "0",
         "0",
         "7",
         "8",
         "2351.508",
         "40",
         "30",
         "149",
         "149",
         "1",
         "20170313",
         "20170419",
         "0"
        ],
        [
         "3",
         "nUiYMBsiB/HaDWMF20ebBeWtw3xwoWrIGuFWa/J/Adc=",
         "0",
         "13",
         "36",
         "male",
         "9",
         "20110913",
         "20170302",
         "0",
         "0",
         "0",
         "0",
         "2",
         "2",
         "523.702",
         "40",
         "30",
         "149",
         "149",
         "1",
         "20170313",
         "20170419",
         "0"
        ],
        [
         "4",
         "nUiYMBsiB/HaDWMF20ebBeWtw3xwoWrIGuFWa/J/Adc=",
         "0",
         "13",
         "36",
         "male",
         "9",
         "20110913",
         "20170314",
         "0",
         "1",
         "0",
         "1",
         "17",
         "19",
         "4705.77",
         "40",
         "30",
         "149",
         "149",
         "1",
         "20170313",
         "20170419",
         "0"
        ]
       ],
       "shape": {
        "columns": 23,
        "rows": 5
       }
      },
      "text/html": [
       "<div>\n",
       "<style scoped>\n",
       "    .dataframe tbody tr th:only-of-type {\n",
       "        vertical-align: middle;\n",
       "    }\n",
       "\n",
       "    .dataframe tbody tr th {\n",
       "        vertical-align: top;\n",
       "    }\n",
       "\n",
       "    .dataframe thead th {\n",
       "        text-align: right;\n",
       "    }\n",
       "</style>\n",
       "<table border=\"1\" class=\"dataframe\">\n",
       "  <thead>\n",
       "    <tr style=\"text-align: right;\">\n",
       "      <th></th>\n",
       "      <th>msno</th>\n",
       "      <th>is_churn</th>\n",
       "      <th>city</th>\n",
       "      <th>bd</th>\n",
       "      <th>gender</th>\n",
       "      <th>registered_via</th>\n",
       "      <th>registration_init_time</th>\n",
       "      <th>date</th>\n",
       "      <th>num_25</th>\n",
       "      <th>num_50</th>\n",
       "      <th>...</th>\n",
       "      <th>num_unq</th>\n",
       "      <th>total_secs</th>\n",
       "      <th>payment_method_id</th>\n",
       "      <th>payment_plan_days</th>\n",
       "      <th>plan_list_price</th>\n",
       "      <th>actual_amount_paid</th>\n",
       "      <th>is_auto_renew</th>\n",
       "      <th>transaction_date</th>\n",
       "      <th>membership_expire_date</th>\n",
       "      <th>is_cancel</th>\n",
       "    </tr>\n",
       "  </thead>\n",
       "  <tbody>\n",
       "    <tr>\n",
       "      <th>0</th>\n",
       "      <td>nUiYMBsiB/HaDWMF20ebBeWtw3xwoWrIGuFWa/J/Adc=</td>\n",
       "      <td>0</td>\n",
       "      <td>13</td>\n",
       "      <td>36</td>\n",
       "      <td>male</td>\n",
       "      <td>9</td>\n",
       "      <td>20110913</td>\n",
       "      <td>20170313</td>\n",
       "      <td>0</td>\n",
       "      <td>0</td>\n",
       "      <td>...</td>\n",
       "      <td>15</td>\n",
       "      <td>4028.665</td>\n",
       "      <td>40</td>\n",
       "      <td>30</td>\n",
       "      <td>149</td>\n",
       "      <td>149</td>\n",
       "      <td>1</td>\n",
       "      <td>20170313</td>\n",
       "      <td>20170419</td>\n",
       "      <td>0</td>\n",
       "    </tr>\n",
       "    <tr>\n",
       "      <th>1</th>\n",
       "      <td>nUiYMBsiB/HaDWMF20ebBeWtw3xwoWrIGuFWa/J/Adc=</td>\n",
       "      <td>0</td>\n",
       "      <td>13</td>\n",
       "      <td>36</td>\n",
       "      <td>male</td>\n",
       "      <td>9</td>\n",
       "      <td>20110913</td>\n",
       "      <td>20170321</td>\n",
       "      <td>2</td>\n",
       "      <td>2</td>\n",
       "      <td>...</td>\n",
       "      <td>24</td>\n",
       "      <td>5710.170</td>\n",
       "      <td>40</td>\n",
       "      <td>30</td>\n",
       "      <td>149</td>\n",
       "      <td>149</td>\n",
       "      <td>1</td>\n",
       "      <td>20170313</td>\n",
       "      <td>20170419</td>\n",
       "      <td>0</td>\n",
       "    </tr>\n",
       "    <tr>\n",
       "      <th>2</th>\n",
       "      <td>nUiYMBsiB/HaDWMF20ebBeWtw3xwoWrIGuFWa/J/Adc=</td>\n",
       "      <td>0</td>\n",
       "      <td>13</td>\n",
       "      <td>36</td>\n",
       "      <td>male</td>\n",
       "      <td>9</td>\n",
       "      <td>20110913</td>\n",
       "      <td>20170312</td>\n",
       "      <td>0</td>\n",
       "      <td>1</td>\n",
       "      <td>...</td>\n",
       "      <td>8</td>\n",
       "      <td>2351.508</td>\n",
       "      <td>40</td>\n",
       "      <td>30</td>\n",
       "      <td>149</td>\n",
       "      <td>149</td>\n",
       "      <td>1</td>\n",
       "      <td>20170313</td>\n",
       "      <td>20170419</td>\n",
       "      <td>0</td>\n",
       "    </tr>\n",
       "    <tr>\n",
       "      <th>3</th>\n",
       "      <td>nUiYMBsiB/HaDWMF20ebBeWtw3xwoWrIGuFWa/J/Adc=</td>\n",
       "      <td>0</td>\n",
       "      <td>13</td>\n",
       "      <td>36</td>\n",
       "      <td>male</td>\n",
       "      <td>9</td>\n",
       "      <td>20110913</td>\n",
       "      <td>20170302</td>\n",
       "      <td>0</td>\n",
       "      <td>0</td>\n",
       "      <td>...</td>\n",
       "      <td>2</td>\n",
       "      <td>523.702</td>\n",
       "      <td>40</td>\n",
       "      <td>30</td>\n",
       "      <td>149</td>\n",
       "      <td>149</td>\n",
       "      <td>1</td>\n",
       "      <td>20170313</td>\n",
       "      <td>20170419</td>\n",
       "      <td>0</td>\n",
       "    </tr>\n",
       "    <tr>\n",
       "      <th>4</th>\n",
       "      <td>nUiYMBsiB/HaDWMF20ebBeWtw3xwoWrIGuFWa/J/Adc=</td>\n",
       "      <td>0</td>\n",
       "      <td>13</td>\n",
       "      <td>36</td>\n",
       "      <td>male</td>\n",
       "      <td>9</td>\n",
       "      <td>20110913</td>\n",
       "      <td>20170314</td>\n",
       "      <td>0</td>\n",
       "      <td>1</td>\n",
       "      <td>...</td>\n",
       "      <td>19</td>\n",
       "      <td>4705.770</td>\n",
       "      <td>40</td>\n",
       "      <td>30</td>\n",
       "      <td>149</td>\n",
       "      <td>149</td>\n",
       "      <td>1</td>\n",
       "      <td>20170313</td>\n",
       "      <td>20170419</td>\n",
       "      <td>0</td>\n",
       "    </tr>\n",
       "  </tbody>\n",
       "</table>\n",
       "<p>5 rows × 23 columns</p>\n",
       "</div>"
      ],
      "text/plain": [
       "                                           msno  is_churn  city  bd gender  \\\n",
       "0  nUiYMBsiB/HaDWMF20ebBeWtw3xwoWrIGuFWa/J/Adc=         0    13  36   male   \n",
       "1  nUiYMBsiB/HaDWMF20ebBeWtw3xwoWrIGuFWa/J/Adc=         0    13  36   male   \n",
       "2  nUiYMBsiB/HaDWMF20ebBeWtw3xwoWrIGuFWa/J/Adc=         0    13  36   male   \n",
       "3  nUiYMBsiB/HaDWMF20ebBeWtw3xwoWrIGuFWa/J/Adc=         0    13  36   male   \n",
       "4  nUiYMBsiB/HaDWMF20ebBeWtw3xwoWrIGuFWa/J/Adc=         0    13  36   male   \n",
       "\n",
       "   registered_via  registration_init_time      date  num_25  num_50  ...  \\\n",
       "0               9                20110913  20170313       0       0  ...   \n",
       "1               9                20110913  20170321       2       2  ...   \n",
       "2               9                20110913  20170312       0       1  ...   \n",
       "3               9                20110913  20170302       0       0  ...   \n",
       "4               9                20110913  20170314       0       1  ...   \n",
       "\n",
       "   num_unq  total_secs  payment_method_id  payment_plan_days  plan_list_price  \\\n",
       "0       15    4028.665                 40                 30              149   \n",
       "1       24    5710.170                 40                 30              149   \n",
       "2        8    2351.508                 40                 30              149   \n",
       "3        2     523.702                 40                 30              149   \n",
       "4       19    4705.770                 40                 30              149   \n",
       "\n",
       "   actual_amount_paid  is_auto_renew  transaction_date  \\\n",
       "0                 149              1          20170313   \n",
       "1                 149              1          20170313   \n",
       "2                 149              1          20170313   \n",
       "3                 149              1          20170313   \n",
       "4                 149              1          20170313   \n",
       "\n",
       "   membership_expire_date  is_cancel  \n",
       "0                20170419          0  \n",
       "1                20170419          0  \n",
       "2                20170419          0  \n",
       "3                20170419          0  \n",
       "4                20170419          0  \n",
       "\n",
       "[5 rows x 23 columns]"
      ]
     },
     "execution_count": 10,
     "metadata": {},
     "output_type": "execute_result"
    }
   ],
   "source": [
    "train_df = pd.merge(train_df, transactions, on='msno', how='inner')\n",
    "train_df.head()"
   ]
  },
  {
   "cell_type": "code",
   "execution_count": 14,
   "metadata": {},
   "outputs": [
    {
     "name": "stdout",
     "output_type": "stream",
     "text": [
      "(946686, 2) (6769473, 6) (18396362, 9) (1431009, 9) (15893645, 23)\n"
     ]
    }
   ],
   "source": [
    "print(train_data.shape, members.shape, user_logs.shape, transactions.shape, train_df.shape)"
   ]
  },
  {
   "cell_type": "code",
   "execution_count": 15,
   "metadata": {},
   "outputs": [],
   "source": [
    "train_df.to_csv('train_df.csv', encoding='utf-8', index=False, header=True)"
   ]
  },
  {
   "cell_type": "code",
   "execution_count": null,
   "metadata": {},
   "outputs": [],
   "source": []
  }
 ],
 "metadata": {
  "kernelspec": {
   "display_name": "Python 3",
   "language": "python",
   "name": "python3"
  },
  "language_info": {
   "codemirror_mode": {
    "name": "ipython",
    "version": 3
   },
   "file_extension": ".py",
   "mimetype": "text/x-python",
   "name": "python",
   "nbconvert_exporter": "python",
   "pygments_lexer": "ipython3",
   "version": "3.12.0"
  }
 },
 "nbformat": 4,
 "nbformat_minor": 2
}
